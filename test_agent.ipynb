{
 "cells": [
  {
   "cell_type": "code",
   "execution_count": 1,
   "metadata": {},
   "outputs": [],
   "source": [
    "from datetime import datetime\n",
    "import guidance\n",
    "import os\n",
    "from dotenv import load_dotenv\n",
    "from langchain.embeddings import OpenAIEmbeddings\n",
    "from generative_agent.GenerativeAgent import GenerativeAgent"
   ]
  },
  {
   "cell_type": "code",
   "execution_count": 2,
   "metadata": {},
   "outputs": [],
   "source": [
    "load_dotenv()\n",
    "OPENAI_API_KEY = os.environ.get(\"OPENAI_API_KEY\")"
   ]
  },
  {
   "cell_type": "code",
   "execution_count": 3,
   "metadata": {},
   "outputs": [],
   "source": [
    "guidance.llm = guidance.llms.OpenAI(model=\"gpt-3.5-turbo\", api_key=OPENAI_API_KEY)\n",
    "embeddings_model = OpenAIEmbeddings(openai_api_key=OPENAI_API_KEY)"
   ]
  },
  {
   "cell_type": "code",
   "execution_count": 4,
   "metadata": {},
   "outputs": [],
   "source": [
    "now = datetime.now()\n",
    "new_time = now.replace(hour=7, minute=25)\n",
    "description = \"Bocchi is student of shuka high school;She likes to play guitar;She has youtube channel name of guitar hero\"\n",
    "bocchi = GenerativeAgent(\n",
    "    guidance=guidance,\n",
    "    name=\"Bocchi\",\n",
    "    age=17,\n",
    "    description=description,\n",
    "    traits=\"like to be alone, no speech, like to play guitar\",\n",
    "    embeddings_model=embeddings_model,\n",
    "    current_time=new_time,\n",
    "    verbose=True\n",
    ")"
   ]
  },
  {
   "cell_type": "code",
   "execution_count": 5,
   "metadata": {},
   "outputs": [],
   "source": [
    "observations = [\n",
    "    'Bocchi wake up in the morning',\n",
    "    'Bocchi feels tired because of watching youtube',\n",
    "    'Bocchi leave the room',\n",
    "    'Bocchi eat the breakfast'\n",
    "]"
   ]
  },
  {
   "cell_type": "code",
   "execution_count": 6,
   "metadata": {},
   "outputs": [],
   "source": [
    "bocchi.add_memories(observations)"
   ]
  },
  {
   "cell_type": "code",
   "execution_count": 7,
   "metadata": {},
   "outputs": [],
   "source": [
    "summary = bocchi.get_summary(force_refresh=True)"
   ]
  },
  {
   "cell_type": "code",
   "execution_count": 8,
   "metadata": {},
   "outputs": [
    {
     "name": "stdout",
     "output_type": "stream",
     "text": [
      "Name: Bocchi (age: 17)\n",
      "Innate traits: like to be alone, no speech, like to play guitar\n",
      "Bocchi is a student of Shuka High School. She eats breakfast, leaves her room, and feels tired from watching YouTube. She wakes up in the morning. She has a YouTube channel called Guitar Hero and likes to play the guitar.\n"
     ]
    }
   ],
   "source": [
    "print(summary)"
   ]
  },
  {
   "cell_type": "code",
   "execution_count": 9,
   "metadata": {},
   "outputs": [],
   "source": [
    "new_time = now.replace(hour=18, minute=15)\n",
    "bocchi.set_current_time(new_time)"
   ]
  },
  {
   "cell_type": "code",
   "execution_count": 10,
   "metadata": {},
   "outputs": [
    {
     "name": "stdout",
     "output_type": "stream",
     "text": [
      "Generating Plans...\n"
     ]
    }
   ],
   "source": [
    "status = bocchi.update_status()"
   ]
  },
  {
   "cell_type": "code",
   "execution_count": 11,
   "metadata": {},
   "outputs": [
    {
     "name": "stdout",
     "output_type": "stream",
     "text": [
      "{'from': datetime.datetime(2023, 7, 4, 18, 15, 46, 858800), 'to': datetime.datetime(2023, 7, 4, 18, 30, 46, 858800), 'task': 'Warm up fingers and practice scales.'}\n"
     ]
    }
   ],
   "source": [
    "print(status)"
   ]
  },
  {
   "cell_type": "code",
   "execution_count": 13,
   "metadata": {},
   "outputs": [],
   "source": [
    "should_react, reaction, context = bocchi._check_reaction(\n",
    "    observation='bocchi watches awesome video about guitar',\n",
    "    observed_entity='her smartphone',\n",
    "    entity_status='playing video about guitar'\n",
    ")"
   ]
  },
  {
   "cell_type": "code",
   "execution_count": 14,
   "metadata": {},
   "outputs": [
    {
     "name": "stdout",
     "output_type": "stream",
     "text": [
      "Yes\n"
     ]
    }
   ],
   "source": [
    "print(should_react)"
   ]
  },
  {
   "cell_type": "code",
   "execution_count": 15,
   "metadata": {},
   "outputs": [
    {
     "name": "stdout",
     "output_type": "stream",
     "text": [
      "Bocchi should react to the observation by feeling inspired and motivated to practice the guitar. She can take this opportunity to learn from the awesome video she watched and incorporate new techniques or ideas into her practice session. She can also consider sharing the video with her audience on her YouTube channel, as it might be helpful or interesting to them as well.\n"
     ]
    }
   ],
   "source": [
    "print(reaction)"
   ]
  },
  {
   "cell_type": "code",
   "execution_count": 16,
   "metadata": {},
   "outputs": [
    {
     "name": "stdout",
     "output_type": "stream",
     "text": [
      "Bocchi is a student at Shuka High School. She feels tired because she was watching YouTube. She leaves the room and eats breakfast. Bocchi likes to play the guitar and has a YouTube channel called \"Guitar Hero.\" She wakes up in the morning and plays videos about guitar on her smartphone.\n"
     ]
    }
   ],
   "source": [
    "print(context)"
   ]
  },
  {
   "cell_type": "code",
   "execution_count": 17,
   "metadata": {},
   "outputs": [
    {
     "data": {
      "text/plain": [
       "[{'from': datetime.datetime(2023, 7, 4, 18, 15, 46, 858800),\n",
       "  'to': datetime.datetime(2023, 7, 4, 18, 30, 46, 858800),\n",
       "  'task': 'Warm up fingers and practice scales.'},\n",
       " {'from': datetime.datetime(2023, 7, 4, 18, 30, 46, 858800),\n",
       "  'to': datetime.datetime(2023, 7, 4, 18, 45, 46, 858800),\n",
       "  'task': 'Learn the first verse of a new song.'},\n",
       " {'from': datetime.datetime(2023, 7, 4, 18, 45, 46, 858800),\n",
       "  'to': datetime.datetime(2023, 7, 4, 19, 0, 46, 858800),\n",
       "  'task': 'Practice the chorus of the new song.'},\n",
       " {'from': datetime.datetime(2023, 7, 4, 19, 0, 46, 858800),\n",
       "  'to': datetime.datetime(2023, 7, 4, 19, 15, 46, 858800),\n",
       "  'task': 'Set up recording equipment.'},\n",
       " {'from': datetime.datetime(2023, 7, 4, 19, 15, 46, 858800),\n",
       "  'to': datetime.datetime(2023, 7, 4, 19, 30, 46, 858800),\n",
       "  'task': 'Record the first verse of the cover song.'},\n",
       " {'from': datetime.datetime(2023, 7, 4, 19, 30, 46, 858800),\n",
       "  'to': datetime.datetime(2023, 7, 4, 19, 45, 46, 858800),\n",
       "  'task': 'Record the chorus of the cover song.'},\n",
       " {'from': datetime.datetime(2023, 7, 4, 19, 45, 46, 858800),\n",
       "  'to': datetime.datetime(2023, 7, 4, 20, 0, 46, 858800),\n",
       "  'task': 'Record the bridge of the cover song.'},\n",
       " {'from': datetime.datetime(2023, 7, 4, 20, 0, 46, 858800),\n",
       "  'to': datetime.datetime(2023, 7, 4, 20, 15, 46, 858800),\n",
       "  'task': 'Edit the recorded video.'},\n",
       " {'from': datetime.datetime(2023, 7, 4, 20, 15, 46, 858800),\n",
       "  'to': datetime.datetime(2023, 7, 4, 20, 30, 46, 858800),\n",
       "  'task': 'Add captions and effects to the video.'},\n",
       " {'from': datetime.datetime(2023, 7, 4, 20, 30, 46, 858800),\n",
       "  'to': datetime.datetime(2023, 7, 4, 20, 45, 46, 858800),\n",
       "  'task': 'Export the edited video.'},\n",
       " {'from': datetime.datetime(2023, 7, 4, 20, 45, 46, 858800),\n",
       "  'to': datetime.datetime(2023, 7, 4, 21, 0, 46, 858800),\n",
       "  'task': 'Upload the video onto YouTube.'},\n",
       " {'from': datetime.datetime(2023, 7, 4, 21, 0, 46, 858800),\n",
       "  'to': datetime.datetime(2023, 7, 4, 21, 15, 46, 858800),\n",
       "  'task': 'Watch a tutorial on fingerpicking.'},\n",
       " {'from': datetime.datetime(2023, 7, 4, 21, 15, 46, 858800),\n",
       "  'to': datetime.datetime(2023, 7, 4, 21, 30, 46, 858800),\n",
       "  'task': 'Learn a new fingerpicking pattern.'},\n",
       " {'from': datetime.datetime(2023, 7, 4, 21, 30, 46, 858800),\n",
       "  'to': datetime.datetime(2023, 7, 4, 21, 45, 46, 858800),\n",
       "  'task': 'Watch a tutorial on strumming techniques.'},\n",
       " {'from': datetime.datetime(2023, 7, 4, 21, 45, 46, 858800),\n",
       "  'to': datetime.datetime(2023, 7, 4, 22, 0, 46, 858800),\n",
       "  'task': 'Practice a new strumming pattern.'},\n",
       " {'from': datetime.datetime(2023, 7, 4, 22, 0, 46, 858800),\n",
       "  'to': datetime.datetime(2023, 7, 4, 22, 15, 46, 858800),\n",
       "  'task': 'Brainstorm ideas for the new song.'},\n",
       " {'from': datetime.datetime(2023, 7, 4, 22, 15, 46, 858800),\n",
       "  'to': datetime.datetime(2023, 7, 4, 22, 30, 46, 858800),\n",
       "  'task': 'Write lyrics for the new song.'},\n",
       " {'from': datetime.datetime(2023, 7, 4, 22, 30, 46, 858800),\n",
       "  'to': datetime.datetime(2023, 7, 4, 22, 45, 46, 858800),\n",
       "  'task': 'Compose the melody for the new song.'},\n",
       " {'from': datetime.datetime(2023, 7, 4, 22, 45, 46, 858800),\n",
       "  'to': datetime.datetime(2023, 7, 4, 23, 0, 46, 858800),\n",
       "  'task': 'Write chords and structure for the new song.'}]"
      ]
     },
     "execution_count": 17,
     "metadata": {},
     "output_type": "execute_result"
    }
   ],
   "source": [
    "bocchi.plan"
   ]
  },
  {
   "cell_type": "code",
   "execution_count": 18,
   "metadata": {},
   "outputs": [],
   "source": [
    "observations_2 = [\n",
    "    \"bocchi call his farther to ask about work\",\n",
    "    \"bocchi try to finish his assignment\",\n",
    "    \"bocchi remember his friend ask him for playing game\",\n",
    "    \"bocchi wake up, feel tired\",\n",
    "    \"bocchi have breakfast with Bob\",\n",
    "    \"bocchi look for a intership\",\n",
    "    \"The big concert will take place in his school today\",    \n",
    "    \"bocchi's bike is broken\",\n",
    "    \"bocchi go to school quickly\",\n",
    "    \"bocchi find a good internship\",\n",
    "    \"bocchi make a plan to prepare his father birthday\"\n",
    "]"
   ]
  },
  {
   "cell_type": "code",
   "execution_count": 19,
   "metadata": {},
   "outputs": [],
   "source": [
    "bocchi.add_memories(observations_2)"
   ]
  },
  {
   "cell_type": "code",
   "execution_count": 21,
   "metadata": {},
   "outputs": [],
   "source": [
    "summary = bocchi.get_summary()\n",
    "status = bocchi.update_status()"
   ]
  },
  {
   "cell_type": "code",
   "execution_count": 22,
   "metadata": {},
   "outputs": [
    {
     "name": "stdout",
     "output_type": "stream",
     "text": [
      "Name: Bocchi (age: 17)\n",
      "Innate traits: like to be alone, no speech, like to play guitar\n",
      "Bocchi is a student at Shuka High School who is actively looking for a good internship. They also make plans for their father's birthday and try to finish their assignments. Bocchi is quick to go to school and remembers their friend asking to play a game. They also have breakfast with someone named Bob and call their father to ask about work.\n"
     ]
    }
   ],
   "source": [
    "print(summary)"
   ]
  },
  {
   "cell_type": "code",
   "execution_count": 23,
   "metadata": {},
   "outputs": [
    {
     "name": "stdout",
     "output_type": "stream",
     "text": [
      "Write chords and structure for the new song.\n"
     ]
    }
   ],
   "source": [
    "print(status)"
   ]
  }
 ],
 "metadata": {
  "kernelspec": {
   "display_name": "Python 3",
   "language": "python",
   "name": "python3"
  },
  "language_info": {
   "codemirror_mode": {
    "name": "ipython",
    "version": 3
   },
   "file_extension": ".py",
   "mimetype": "text/x-python",
   "name": "python",
   "nbconvert_exporter": "python",
   "pygments_lexer": "ipython3",
   "version": "3.10.4"
  },
  "orig_nbformat": 4
 },
 "nbformat": 4,
 "nbformat_minor": 2
}
