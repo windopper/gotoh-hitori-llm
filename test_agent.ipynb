{
 "cells": [
  {
   "cell_type": "code",
   "execution_count": 2,
   "metadata": {},
   "outputs": [],
   "source": [
    "from datetime import datetime\n",
    "import guidance\n",
    "import os\n",
    "from dotenv import load_dotenv\n",
    "from langchain.embeddings import OpenAIEmbeddings\n",
    "from generative_agent.GenerativeAgent import GenerativeAgent"
   ]
  },
  {
   "cell_type": "code",
   "execution_count": 3,
   "metadata": {},
   "outputs": [],
   "source": [
    "load_dotenv()\n",
    "OPENAI_API_KEY = os.environ.get(\"OPENAI_API_KEY\")"
   ]
  },
  {
   "cell_type": "code",
   "execution_count": 4,
   "metadata": {},
   "outputs": [],
   "source": [
    "guidance.llm = guidance.llms.OpenAI(model=\"gpt-3.5-turbo\", api_key=OPENAI_API_KEY)\n",
    "embeddings_model = OpenAIEmbeddings(openai_api_key=OPENAI_API_KEY)"
   ]
  },
  {
   "cell_type": "code",
   "execution_count": 6,
   "metadata": {},
   "outputs": [],
   "source": [
    "now = datetime.now()\n",
    "new_time = now.replace(hour=7, minute=25)\n",
    "description = \"Bocchi is student of shuka high school;She likes to play guitar;She has youtube channel name of guitar hero\"\n",
    "bocchi = GenerativeAgent(\n",
    "    guidance=guidance,\n",
    "    name=\"Bocchi\",\n",
    "    age=17,\n",
    "    description=description,\n",
    "    traits=\"like to be alone, no speech, like to play guitar\",\n",
    "    embeddings_model=embeddings_model,\n",
    "    current_time=new_time,\n",
    "    verbose=True\n",
    ")"
   ]
  },
  {
   "cell_type": "code",
   "execution_count": 7,
   "metadata": {},
   "outputs": [],
   "source": [
    "observations = [\n",
    "    'Bocchi wake up in the morning',\n",
    "    'Bocchi feels tired because of watching youtube',\n",
    "    'Bocchi leave the room',\n",
    "    'Bocchi eat the breakfast'\n",
    "]"
   ]
  },
  {
   "cell_type": "code",
   "execution_count": 8,
   "metadata": {},
   "outputs": [],
   "source": [
    "bocchi.add_memories(observations)"
   ]
  },
  {
   "cell_type": "code",
   "execution_count": 9,
   "metadata": {},
   "outputs": [],
   "source": [
    "summary = bocchi.get_summary(force_refresh=True)"
   ]
  },
  {
   "cell_type": "code",
   "execution_count": 10,
   "metadata": {},
   "outputs": [
    {
     "name": "stdout",
     "output_type": "stream",
     "text": [
      "Name: Bocchi (age: 17)\n",
      "Innate traits: like to be alone, no speech, like to play guitar\n",
      "Bocchi is a student of Shuka High School who eats breakfast, leaves the room, and feels tired from watching YouTube. She wakes up in the morning and has a YouTube channel called \"Guitar Hero\" where she likes to play guitar.\n"
     ]
    }
   ],
   "source": [
    "print(summary)"
   ]
  },
  {
   "cell_type": "code",
   "execution_count": 11,
   "metadata": {},
   "outputs": [],
   "source": [
    "new_time = now.replace(hour=18, minute=15)\n",
    "bocchi.set_current_time(new_time)"
   ]
  },
  {
   "cell_type": "code",
   "execution_count": 12,
   "metadata": {},
   "outputs": [
    {
     "name": "stdout",
     "output_type": "stream",
     "text": [
      "Generating Plans...\n"
     ]
    }
   ],
   "source": [
    "status = bocchi.update_status()"
   ]
  },
  {
   "cell_type": "code",
   "execution_count": 13,
   "metadata": {},
   "outputs": [
    {
     "name": "stdout",
     "output_type": "stream",
     "text": [
      "Bocchi plans 18:15 - 18:30: Warm up fingers on guitar.\n"
     ]
    }
   ],
   "source": [
    "print(status)"
   ]
  },
  {
   "cell_type": "code",
   "execution_count": 14,
   "metadata": {},
   "outputs": [],
   "source": [
    "should_react, reaction, context = bocchi._check_reaction(\n",
    "    observation='bocchi watches awesome video about guitar',\n",
    "    observed_entity='her smartphone',\n",
    "    entity_status='playing video about guitar'\n",
    ")"
   ]
  },
  {
   "cell_type": "code",
   "execution_count": 15,
   "metadata": {},
   "outputs": [
    {
     "name": "stdout",
     "output_type": "stream",
     "text": [
      "Yes\n"
     ]
    }
   ],
   "source": [
    "print(should_react)"
   ]
  },
  {
   "cell_type": "code",
   "execution_count": 16,
   "metadata": {},
   "outputs": [
    {
     "name": "stdout",
     "output_type": "stream",
     "text": [
      "Bocchi could react to the observation by feeling inspired and motivated to continue practicing and improving her guitar skills. She could also consider incorporating some of the techniques or ideas she learned from the video into her own playing. Additionally, Bocchi might want to consider sharing the video with her subscribers or discussing it in a future video on her channel.\n"
     ]
    }
   ],
   "source": [
    "print(reaction)"
   ]
  },
  {
   "cell_type": "code",
   "execution_count": 17,
   "metadata": {},
   "outputs": [
    {
     "name": "stdout",
     "output_type": "stream",
     "text": [
      "Bocchi, a student at Shuka High School, has a YouTube channel called \"Guitar Hero\" and enjoys playing the guitar. She has a detailed schedule for practicing, recording, editing, and interacting with her subscribers. She plans to search for guitar tutorials on her smartphone and play her favorite songs on the guitar.\n"
     ]
    }
   ],
   "source": [
    "print(context)"
   ]
  },
  {
   "cell_type": "code",
   "execution_count": 19,
   "metadata": {},
   "outputs": [
    {
     "data": {
      "text/plain": [
       "['Bocchi plans 18:15 - 18:30: Warm up fingers on guitar.',\n",
       " 'Bocchi plans 18:30 - 18:45: Practice chord progressions.',\n",
       " 'Bocchi plans 18:45 - 19:00: Work on strumming techniques.',\n",
       " 'Bocchi plans 19:00 - 19:15: Choose a song to cover.',\n",
       " 'Bocchi plans 19:15 - 19:30: Set up recording equipment.',\n",
       " 'Bocchi plans 19:30 - 19:45: Record guitar cover.',\n",
       " 'Bocchi plans 19:45 - 20:00: Edit video and add effects.',\n",
       " 'Bocchi plans 20:00 - 20:15: Eat dinner.',\n",
       " 'Bocchi plans 20:15 - 20:30: Reply to comments on YouTube.',\n",
       " 'Bocchi plans 20:30 - 20:45: Interact with subscribers.',\n",
       " 'Bocchi plans 20:45 - 21:00: Search for guitar tutorials.',\n",
       " 'Bocchi plans 21:00 - 21:15: Watch tutorials for new techniques.',\n",
       " 'Bocchi plans 21:15 - 21:30: Practice new techniques on guitar.',\n",
       " 'Bocchi plans 21:30 - 21:45: Play favorite songs on guitar.',\n",
       " 'Bocchi plans 21:45 - 22:00: Wind down and relax.',\n",
       " 'Bocchi plans 22:00 - 22:15: Brush teeth and get ready for bed.',\n",
       " 'Bocchi plans 22:15 - 22:30: Read or listen to calming music before sleep.']"
      ]
     },
     "execution_count": 19,
     "metadata": {},
     "output_type": "execute_result"
    }
   ],
   "source": [
    "bocchi.plan"
   ]
  },
  {
   "cell_type": "code",
   "execution_count": null,
   "metadata": {},
   "outputs": [],
   "source": []
  }
 ],
 "metadata": {
  "kernelspec": {
   "display_name": "Python 3",
   "language": "python",
   "name": "python3"
  },
  "language_info": {
   "codemirror_mode": {
    "name": "ipython",
    "version": 3
   },
   "file_extension": ".py",
   "mimetype": "text/x-python",
   "name": "python",
   "nbconvert_exporter": "python",
   "pygments_lexer": "ipython3",
   "version": "3.10.4"
  },
  "orig_nbformat": 4
 },
 "nbformat": 4,
 "nbformat_minor": 2
}
